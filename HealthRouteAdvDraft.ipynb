{
 "cells": [
  {
   "cell_type": "code",
   "execution_count": 10,
   "id": "6b5d9680",
   "metadata": {},
   "outputs": [
    {
     "ename": "SyntaxError",
     "evalue": "unterminated string literal (detected at line 2) (2668094556.py, line 2)",
     "output_type": "error",
     "traceback": [
      "\u001b[1;36m  Cell \u001b[1;32mIn[10], line 2\u001b[1;36m\u001b[0m\n\u001b[1;33m    print(\"\\nPrimary Care is intended for non-urgent conditions that can wait for a scheduled appointment\\nUrgent Care is an additional resource for if you cannot obtain a timely primary care visit and are experiencing a mild, non-life threatening illness or injury jury with the potential to be life-threatening.”)\u001b[0m\n\u001b[1;37m          ^\u001b[0m\n\u001b[1;31mSyntaxError\u001b[0m\u001b[1;31m:\u001b[0m unterminated string literal (detected at line 2)\n"
     ]
    }
   ],
   "source": []
  },
  {
   "cell_type": "code",
   "execution_count": 14,
   "id": "136d5a10",
   "metadata": {},
   "outputs": [
    {
     "name": "stdout",
     "output_type": "stream",
     "text": [
      "Welcome to Health Route Advisor, please briefly review the information below before you begin. \n",
      "\n",
      "Primary Care is intended for non-urgent conditions that can wait for a scheduled appointment\n",
      "\n",
      "Urgent Care is an additional resource for if you cannot obtain a timely primary care visit and are experiencing a mild, non-life threatening illness or injury\n",
      "\n",
      "Emergency room visits are for severe illness or injury with the potential to be life-threatening. Also, for any life-threatening symptoms to include chest pain, facial droop with slurred speech or weakness/numbness, difficulty breathing, uncontrolled breathing.\n"
     ]
    }
   ],
   "source": []
  }
 ],
 "metadata": {
  "kernelspec": {
   "display_name": "Python 3 (ipykernel)",
   "language": "python",
   "name": "python3"
  },
  "language_info": {
   "codemirror_mode": {
    "name": "ipython",
    "version": 3
   },
   "file_extension": ".py",
   "mimetype": "text/x-python",
   "name": "python",
   "nbconvert_exporter": "python",
   "pygments_lexer": "ipython3",
   "version": "3.11.4"
  }
 },
 "nbformat": 4,
 "nbformat_minor": 5
}
