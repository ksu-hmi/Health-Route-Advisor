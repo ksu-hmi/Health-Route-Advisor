{
 "cells": [
  {
   "cell_type": "code",
   "execution_count": 2,
   "id": "2b6d3145",
   "metadata": {},
   "outputs": [
    {
     "name": "stdout",
     "output_type": "stream",
     "text": [
      "Welcome to Health Route Advisor, please briefly review the information below before you begin.\n",
      "\n",
      "\n",
      "Primary Care is intended for non-urgent conditions that can wait for a scheduled appointment\n",
      "\n",
      "\n",
      "Urgent Care is an additional resource for if you cannot obtain a timely primary care visit and are experiencing a mild, non-life threatening illness or injury\n",
      "\n",
      "\n",
      "Emergency room visits are for severe illness or injury with the potential to be life-threatening. Also, for any life-threatening symptoms to include chest pain, facial droop with slurred speech or weakness/numbness, difficulty breathing, uncontrolled breathing.\n"
     ]
    }
   ],
   "source": [
    "print('Welcome to Health Route Advisor, please briefly review the information below before you begin.')\n",
    "print('\\n\\nPrimary Care is intended for non-urgent conditions that can wait for a scheduled appointment')\n",
    "print('\\n\\nUrgent Care is an additional resource for if you cannot obtain a timely primary care visit and are experiencing a mild, non-life threatening illness or injury')\n",
    "print('\\n\\nEmergency room visits are for severe illness or injury with the potential to be life-threatening. Also, for any life-threatening symptoms to include chest pain, facial droop with slurred speech or weakness/numbness, difficulty breathing, uncontrolled breathing.')\n",
    "\n",
    "\n",
    "\n",
    "\n",
    "\n",
    "\n"
   ]
  },
  {
   "cell_type": "code",
   "execution_count": 3,
   "id": "2e5b47a6",
   "metadata": {},
   "outputs": [
    {
     "name": "stdout",
     "output_type": "stream",
     "text": [
      "Welcome to Health Route Advisor, please briefly review the information below before you begin.\n",
      "\n",
      "\n",
      "Primary Care is intended for non-urgent conditions that can wait for a scheduled appointment\n",
      "\n",
      "\n",
      "Urgent Care is an additional resource for if you cannot obtain a timely primary care visit and are experiencing a mild, non-life threatening illness or injury\n",
      "\n",
      "\n",
      "Emergency room visits are for severe illness or injury with the potential to be life-threatening. Also, for any life-threatening symptoms to include chest pain, facial droop with slurred speech or weakness/numbness, difficulty breathing, uncontrolled breathing.\n",
      "*    *    *    *    *    *    *    *    *    *    *    *    *    *    *    *    *    \n",
      "Please answer yes \"Y\" or no \"N\".\n",
      "If \"YES\" to any of the following symptoms, please call an ambulance or go to the emergency room immediately for evaluation.\n",
      "\n",
      "Are you experiencing chest pain, difficulty breathing, facial droop, weakness/numbness on one side, loss of vision, loss of consciousness, head injury, seizure, uncontrolled bleeding, or severe allergic reaction?n\n",
      "Please answer yes \"Y\" or no \"N\".\n",
      "If \"YES\" to any of the following, please go to the emergency room\n",
      "\n",
      "Are you experiencing severe dizziness, suspected broken bone or dislocation, burn with blister, severe abdominal pain, large cut that may need stitches, fever >103 F, fever with rash, vaginal bleeding while pregnant, suspected poisoning, mental health crisis, or persistent vomiting/diarrhea?n\n",
      "try again\n"
     ]
    }
   ],
   "source": [
    "advice()"
   ]
  },
  {
   "cell_type": "code",
   "execution_count": 28,
   "id": "02df5e0e",
   "metadata": {},
   "outputs": [
    {
     "name": "stdout",
     "output_type": "stream",
     "text": [
      "Welcome to Health Route Advisor, please briefly review the information below before you begin.\n",
      "\n",
      "\n",
      "Primary Care is intended for non-urgent conditions that can wait for a scheduled appointment\n",
      "\n",
      "\n",
      "Urgent Care is an additional resource for if you cannot obtain a timely primary care visit and are experiencing a mild, non-life threatening illness or injury\n",
      "\n",
      "\n",
      "Emergency room visits are for severe illness or injury with the potential to be life-threatening. Also, for any life-threatening symptoms to include chest pain, facial droop with slurred speech or weakness/numbness, difficulty breathing, uncontrolled breathing.\n",
      "*    *    *    *    *    *    *    *    *    *    *    *    *    *    *    *    *    \n",
      "Please answer yes \"Y\" or no \"N\".\n",
      "If \"YES\" to any of the following symptoms, please call an ambulance or go to the emergency room immediately for evaluation.\n",
      "\n",
      "Are you experiencing chest pain, difficulty breathing, facial droop, weakness/numbness on one side, loss of vision, loss of consciousness, head injury, seizure, uncontrolled bleeding, or severe allergic reaction?n\n",
      "Please answer yes \"Y\" or no \"N\".\n",
      "If \"YES\" to any of the following, please go to the emergency room\n",
      "\n",
      "Are you experiencing severe dizziness, suspected broken bone or dislocation, burn with blister, severe abdominal pain, large cut that may need stitches, fever >103 F, fever with rash, vaginal bleeding while pregnant, suspected poisoning, mental health crisis, or persistent vomiting/diarrhea?n\n",
      "Do you have a mild fever without rash? (Y/N): n\n",
      "Are you wheezing or slightly short of breath? (Y/N): n\n",
      "Do you have a small cut or minor injury? (Y/N): n\n",
      "Do you have symptoms of flu? (Y/N): n\n",
      "Are you experiencing nausea with vomiting? (Y/N): n\n",
      "Are you experiencing diarrhea? (Y/N): n\n",
      "Are you having pain or difficulty with urinating? (Y/N): n\n",
      "Do you a minor animal or insect bite? (Y/N): n\n",
      "Are you experiencing mild symptoms of allergic reaction(redness, itching, swelling, no difficulty breathing)? (Y/N): n\n",
      "Are you experiencing symptoms of a cold? (Y/N): n\n",
      "Do you have symptoms of pink eye? (Y/N): n\n",
      "Are you experiencing mild allergy symptoms? (Y/N): n\n",
      "Are you experiencing mild symptoms of respiratory illness? (Y/N): n\n",
      "Try Again\n"
     ]
    }
   ],
   "source": [
    "#function 1\n",
    "def advice():\n",
    "#introduction of program with brief explanation of urgent care, primary care, and emergency room visits\n",
    "    print('Welcome to Health Route Advisor, please briefly review the information below before you begin.')\n",
    "    print('\\n\\nPrimary Care is intended for non-urgent conditions that can wait for a scheduled appointment')\n",
    "    print('\\n\\nUrgent Care is an additional resource for if you cannot obtain a timely primary care visit and are experiencing a mild, non-life threatening illness or injury')\n",
    "    print('\\n\\nEmergency room visits are for severe illness or injury with the potential to be life-threatening. Also, for any life-threatening symptoms to include chest pain, facial droop with slurred speech or weakness/numbness, difficulty breathing, uncontrolled breathing.')\n",
    "    print('*    *    *    *    *    *    *    *    *    *    *    *    *    *    *    *    *    ')\n",
    "    \n",
    "# Gather information about symptoms, begin with most severe\n",
    "    emergency_room1 = input('Please answer yes \"Y\" or no \"N\".\\nIf \"YES\" to any of the following symptoms, please call an ambulance or go to the emergency room immediately for evaluation.\\n\\nAre you experiencing chest pain, difficulty breathing, facial droop, weakness/numbness on one side, loss of vision, loss of consciousness, head injury, seizure, uncontrolled bleeding, or severe allergic reaction?')\n",
    "    if emergency_room1.lower() == \"y\":\n",
    "        print(\"Please call an ambulance or seek immediate care from emergency room.\\nThank you for using the Health Route Advisor and get well soon!\")\n",
    "    elif emergency_room1.lower() == \"n\":\n",
    "        emergency_room2 = input('Please answer yes \"Y\" or no \"N\".\\nIf \"YES\" to any of the following, please go to the emergency room\\n\\nAre you experiencing severe dizziness, suspected broken bone or dislocation, burn with blister, severe abdominal pain, large cut that may need stitches, fever >103 F, fever with rash, vaginal bleeding while pregnant, suspected poisoning, mental health crisis, or persistent vomiting/diarrhea?')\n",
    "        if emergency_room2.lower() == \"y\":\n",
    "            print('Please seek care at an emergency room.')\n",
    "        else:\n",
    "            advice_two()\n",
    "    else:\n",
    "        advice_two()\n",
    "\n",
    "advice()"
   ]
  },
  {
   "cell_type": "code",
   "execution_count": 24,
   "id": "c090021f",
   "metadata": {},
   "outputs": [
    {
     "name": "stdout",
     "output_type": "stream",
     "text": [
      "Do you have a mild fever without rash? (Y/N): n\n",
      "Are you wheezing or slightly short of breath? (Y/N): n\n",
      "Do you have a small cut or minor injury? (Y/N): n\n",
      "Do you have symptoms of flu? (Y/N): n\n",
      "Are you experiencing nausea with vomiting? (Y/N): n\n",
      "Are you experiencing diarrhea? (Y/N): n\n",
      "Are you having pain or difficulty with urinating? (Y/N): n\n",
      "Do you a minor animal or insect bite? (Y/N): n\n",
      "Are you experiencing mild symptoms of allergic reaction(redness, itching, swelling, no difficulty breathing)? (Y/N): n\n",
      "Are you experiencing symptoms of a cold? (Y/N): n\n",
      "Do you have symptoms of pink eye? (Y/N): n\n",
      "Are you experiencing mild allergy symptoms? (Y/N): n\n",
      "Are you experiencing mild symptoms of respiratory illness? (Y/N): n\n",
      "Try Again\n"
     ]
    }
   ],
   "source": [
    "#function 2\n",
    "def advice_two():    \n",
    "\n",
    "    fever = input(\"Do you have a mild fever without rash? (Y/N): \")\n",
    "    wheeze = input(\"Are you wheezing or slightly short of breath? (Y/N): \")\n",
    "    cut_small = input(\"Do you have a small cut or minor injury? (Y/N): \")\n",
    "    flu = input(\"Do you have symptoms of flu? (Y/N): \")\n",
    "    vomiting = input(\"Are you experiencing nausea with vomiting? (Y/N): \")\n",
    "    diarrhea = input(\"Are you experiencing diarrhea? (Y/N): \")\n",
    "    urine = input(\"Are you having pain or difficulty with urinating? (Y/N): \")\n",
    "    bite = input(\"Do you a minor animal or insect bite? (Y/N): \")\n",
    "    allergy = input(\"Are you experiencing mild symptoms of allergic reaction(redness, itching, swelling, no difficulty breathing)? (Y/N): \")\n",
    "    if fever.lower() == 'y' or wheeze.lower() == 'y' or cut_small.lower() == 'y' or flu.lower() == 'y' or vomiting.lower() == 'y' or diarrhea.lower() == 'y' or urine.lower() == 'y' or bite.lower() == 'y' or allergy.lower() == 'y':\n",
    "        print(\"Please seek treatment at an urgent care. Thank you for using Health Route Advisor. Get well soon!\")\n",
    "    else:\n",
    "        cold = input(\"Are you experiencing symptoms of a cold? (Y/N): \")\n",
    "        pink = input(\"Do you have symptoms of pink eye? (Y/N): \")\n",
    "        allergy2 = input(\"Are you experiencing mild allergy symptoms? (Y/N): \")\n",
    "        respiratory = input(\"Are you experiencing mild symptoms of respiratory illness? (Y/N): \")\n",
    "        if cold.lower() == 'y' or pink.lower() == 'y' or allergy2.lower() == 'y' or respiratory.lower() == 'y':\n",
    "            print(\"Please seek care from your primary care provider. If you do not have one or are unable to schedule a timely visit, please seek urgent care. Thank you for using Health Route Advisor. Get well soon!\")\n",
    "        else:\n",
    "            print(\"Try Again\")\n",
    "\n",
    "advice_two()"
   ]
  },
  {
   "cell_type": "code",
   "execution_count": 19,
   "id": "41d5db65",
   "metadata": {},
   "outputs": [
    {
     "name": "stdout",
     "output_type": "stream",
     "text": [
      "Are you experiencing symptoms of a cold? (Y/N): n\n",
      "Do you have symptoms of pink eye? (Y/N): n\n",
      "Are you experiencing mild allergy symptoms? (Y/N): n\n",
      "Are you experiencing mild symptoms of respiratory illness? (Y/N): n\n",
      "Please seek care from your primary care provider. If you do not have one or are unable to schedule a timely visit, please seek urgent care. Thank you for using Health Route Advisor. Get well soon!\n"
     ]
    }
   ],
   "source": [
    "#function three\n",
    "def advice_three():\n",
    "    cold = input(\"Are you experiencing symptoms of a cold? (Y/N): \")\n",
    "    pink = input(\"Do you have symptoms of pink eye? (Y/N): \")\n",
    "    allergy2 = input(\"Are you experiencing mild allergy symptoms? (Y/N): \")\n",
    "    respiratory = input(\"Are you experiencing mild symptoms of respiratory illness? (Y/N): \")\n",
    "    if cold.lower() or pink.lower() or allergy2.lower() or respiratory.lower() != \"n\":\n",
    "        print(\"Please seek care from your primary care provider. If you do not have one or are unable to schedule a timely visit, please seek urgent care. Thank you for using Health Route Advisor. Get well soon!\")\n",
    "    else:\n",
    "        print(\"Try Again\")\n",
    "advice_three()"
   ]
  },
  {
   "cell_type": "code",
   "execution_count": null,
   "id": "15401e57",
   "metadata": {},
   "outputs": [],
   "source": [
    "#final code\n",
    "def advice():\n",
    "#introduction of program with brief explanation of urgent care, primary care, and emergency room visits\n",
    "    print('Welcome to Health Route Advisor, please briefly review the information below before you begin.')\n",
    "    print('\\n\\nPrimary Care is intended for non-urgent conditions that can wait for a scheduled appointment')\n",
    "    print('\\n\\nUrgent Care is an additional resource for if you cannot obtain a timely primary care visit and are experiencing a mild, non-life threatening illness or injury')\n",
    "    print('\\n\\nEmergency room visits are for severe illness or injury with the potential to be life-threatening. Also, for any life-threatening symptoms to include chest pain, facial droop with slurred speech or weakness/numbness, difficulty breathing, uncontrolled breathing.')\n",
    "    print('*    *    *    *    *    *    *    *    *    *    *    *    *    *    *    *    *    ')\n",
    "    \n",
    "# Gather information about symptoms, begin with most severe\n",
    "    emergency_room1 = input('Please answer yes \"Y\" or no \"N\".\\nIf \"YES\" to any of the following symptoms, please call an ambulance or go to the emergency room immediately for evaluation.\\n\\nAre you experiencing chest pain, difficulty breathing, facial droop, weakness/numbness on one side, loss of vision, loss of consciousness, head injury, seizure, uncontrolled bleeding, or severe allergic reaction?')\n",
    "    if emergency_room1.lower() == \"y\":\n",
    "        print(\"Please call an ambulance or seek immediate care from emergency room.\\nThank you for using the Health Route Advisor and get well soon!\")\n",
    "    elif emergency_room1.lower() == \"n\":\n",
    "        emergency_room2 = input('Please answer yes \"Y\" or no \"N\".\\nIf \"YES\" to any of the following, please go to the emergency room\\n\\nAre you experiencing severe dizziness, suspected broken bone or dislocation, burn with blister, severe abdominal pain, large cut that may need stitches, fever >103 F, fever with rash, vaginal bleeding while pregnant, suspected poisoning, mental health crisis, or persistent vomiting/diarrhea?')\n",
    "        if emergency_room2.lower() == \"y\":\n",
    "            print('Please seek care at an emergency room.')\n",
    "        else:\n",
    "            fever = input(\"Do you have a mild fever without rash? (Y/N): \")\n",
    "            wheeze = input(\"Are you wheezing or slightly short of breath? (Y/N): \")\n",
    "            cut_small = input(\"Do you have a small cut or minor injury? (Y/N): \")\n",
    "            flu = input(\"Do you have symptoms of flu? (Y/N): \")\n",
    "            vomiting = input(\"Are you experiencing nausea with vomiting? (Y/N): \")\n",
    "            diarrhea = input(\"Are you experiencing diarrhea? (Y/N): \")\n",
    "            urine = input(\"Are you having pain or difficulty with urinating? (Y/N): \")\n",
    "            bite = input(\"Do you a minor animal or insect bite? (Y/N): \")\n",
    "            allergy = input(\"Are you experiencing mild symptoms of allergic reaction(redness, itching, swelling, no difficulty breathing)? (Y/N): \")\n",
    "            if fever.lower() or wheeze.lower() or cut_small.lower() or flu.lower() or vomiting.lower() or diarrhea.lower() or urine.lower() or bite.lower() or allergy.lower() == \"y\":\n",
    "                print(\"Please seek treatment at an urgent care. Thank you for using Health Route Advisor. Get well soon!\")\n",
    "            else: \n",
    "                cold = input(\"Are you experiencing symptoms of a cold? (Y/N): \")\n",
    "                pink = input(\"Do you have symptoms of pink eye? (Y/N): \")\n",
    "                allergy2 = input(\"Are you experiencing mild allergy symptoms? (Y/N): \")\n",
    "                respiratory = input(\"Are you experiencing mild symptoms of respiratory illness? (Y/N): \")\n",
    "            if cold.lower() or pink.lower() or allergy2.lower() or respiratory.lower() == \"y\":\n",
    "                print(\"Please seek care from your primary care provider. If you do not have one or are unable to schedule a timely visit, please seek urgent care. Thank you for using Health Route Advisor. Get well soon!\")\n",
    "                else:\n",
    "                    print(\"Try Again\")\n",
    "    else:\n",
    "        print(\"Try Again\")\n",
    "\n",
    "advice()"
   ]
  }
 ],
 "metadata": {
  "kernelspec": {
   "display_name": "Python 3 (ipykernel)",
   "language": "python",
   "name": "python3"
  },
  "language_info": {
   "codemirror_mode": {
    "name": "ipython",
    "version": 3
   },
   "file_extension": ".py",
   "mimetype": "text/x-python",
   "name": "python",
   "nbconvert_exporter": "python",
   "pygments_lexer": "ipython3",
   "version": "3.11.4"
  }
 },
 "nbformat": 4,
 "nbformat_minor": 5
}
